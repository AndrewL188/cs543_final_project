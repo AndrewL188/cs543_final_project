{
 "cells": [
  {
   "cell_type": "code",
   "execution_count": 1,
   "id": "1bf392e8",
   "metadata": {},
   "outputs": [],
   "source": [
    "import face_recognition"
   ]
  },
  {
   "cell_type": "code",
   "execution_count": 2,
   "id": "08e671c6",
   "metadata": {},
   "outputs": [],
   "source": [
    "import numpy as np\n",
    "import cv2\n",
    "import time"
   ]
  },
  {
   "cell_type": "code",
   "execution_count": 30,
   "id": "e9e63619",
   "metadata": {},
   "outputs": [],
   "source": [
    "def HandleOneImage(filename):\n",
    "    start = time.time()\n",
    "    image = face_recognition.load_image_file(filename)\n",
    "    face_locations = face_recognition.face_locations(image)\n",
    "    R = image[:,:,0]\n",
    "    G = image[:,:,1]\n",
    "    B = image[:,:,2]\n",
    "    for each in face_locations:\n",
    "        top,right,bottom,left = each\n",
    "        for i in range(left,right):\n",
    "            R[top][i] = 255\n",
    "            R[top+1][i] = 255\n",
    "            R[top-1][i] = 255\n",
    "            R[bottom][i] = 255\n",
    "            R[bottom+1][i] = 255\n",
    "            R[bottom-1][i] = 255\n",
    "            \n",
    "        for j in range(top,bottom):\n",
    "            R[j][left] = 255\n",
    "            R[j][right] = 255\n",
    "            R[j][left+1] = 255\n",
    "            R[j][right+1] = 255\n",
    "            R[j][left-1] = 255\n",
    "            R[j][right-1] = 255\n",
    "    \n",
    "    \n",
    "    outfile = filename.split(\".\")[0] + \"_out.jpg\"\n",
    "    \n",
    "    cv2.imwrite(outfile,np.stack([B,G,R],axis=2))\n",
    "    print(time.time()-start)\n",
    "    "
   ]
  },
  {
   "cell_type": "code",
   "execution_count": 32,
   "id": "08c0965e",
   "metadata": {},
   "outputs": [
    {
     "name": "stdout",
     "output_type": "stream",
     "text": [
      "0.7069787979125977\n",
      "0.16370153427124023\n",
      "0.12114405632019043\n",
      "0.17618465423583984\n",
      "0.1718437671661377\n",
      "0.04641461372375488\n",
      "0.11692309379577637\n",
      "0.1368722915649414\n"
     ]
    }
   ],
   "source": [
    "HandleOneImage(\"test1.jpg\")\n",
    "HandleOneImage(\"test2.jpg\")\n",
    "HandleOneImage(\"test3.jpg\")\n",
    "HandleOneImage(\"test4.jpg\")\n",
    "HandleOneImage(\"test5.jpg\")\n",
    "HandleOneImage(\"test6.jpg\")\n",
    "HandleOneImage(\"test7.jpg\")\n",
    "HandleOneImage(\"test8.jpg\")"
   ]
  },
  {
   "cell_type": "code",
   "execution_count": null,
   "id": "0b45bd4e",
   "metadata": {},
   "outputs": [],
   "source": []
  }
 ],
 "metadata": {
  "kernelspec": {
   "display_name": "Python 3",
   "language": "python",
   "name": "python3"
  },
  "language_info": {
   "codemirror_mode": {
    "name": "ipython",
    "version": 3
   },
   "file_extension": ".py",
   "mimetype": "text/x-python",
   "name": "python",
   "nbconvert_exporter": "python",
   "pygments_lexer": "ipython3",
   "version": "3.6.9"
  }
 },
 "nbformat": 4,
 "nbformat_minor": 5
}
