{
 "cells": [
  {
   "cell_type": "code",
   "execution_count": 1,
   "id": "7db2619c",
   "metadata": {},
   "outputs": [],
   "source": [
    "import numpy as np\n",
    "from PIL import Image\n",
    "from scipy.ndimage import convolve\n",
    "import cv2\n",
    "from scipy import ndimage\n",
    "from skimage.morphology import (erosion, dilation, closing, opening,\n",
    "                                area_closing, area_opening)\n",
    "\n",
    "def preprocess(image_name):\n",
    "    # Tunable parameters. Can play around with these\n",
    "    f = 11 # Boosting factor\n",
    "    threshold = 30 # Threshold for binary image\n",
    "\n",
    "    im = np.array(Image.open(image_name).convert(\"L\"))\n",
    "\n",
    "    # Sharpen image\n",
    "    alpha = 0.05\n",
    "    blurred = ndimage.gaussian_filter(im, 2)\n",
    "    sharpened = im + alpha*(im-blurred)\n",
    "    # new_img = Image.fromarray(sharpened.astype(np.uint8))\n",
    "    # new_img.save(\"sharpened.jpg\")\n",
    "\n",
    "    # Opening operation\n",
    "    element = np.array([[0,1,0],\n",
    "                    [1,1,1],\n",
    "                    [0,1,0]])\n",
    "    im = opening(sharpened, element)\n",
    "\n",
    "    # Boost filtering\n",
    "    dx_filter = np.array([[-1, 0, 1], [-2, 0, 2], [-1, 0, 1]], np.float32)\n",
    "    dy_filter = np.array([[1, 2, 1], [0, 0, 0], [-1, -2, -1]], np.float32)\n",
    "\n",
    "    Ix = convolve(im, dx_filter).astype(float)\n",
    "    Iy = convolve(im, dy_filter).astype(float)\n",
    "    sobel_im = (Ix*Ix + Iy*Iy)**0.5\n",
    "    for i in range(sobel_im.shape[0]):\n",
    "        for j in range(sobel_im.shape[1]):\n",
    "            if sobel_im[i][j] > 255:\n",
    "                sobel_im[i][j] = 255.\n",
    "    \n",
    "    sobel_im = sobel_im/255.\n",
    "\n",
    "    g = im/255.\n",
    "    z = np.zeros(im.shape)\n",
    "    for i in range(z.shape[0]):\n",
    "        for j in range(z.shape[1]):\n",
    "            if sobel_im[i][j] > 0.5:\n",
    "                z[i][j] = 0.4\n",
    "            else:\n",
    "                z[i][j] = 0.8\n",
    "    w = np.zeros(im.shape)\n",
    "    for i in range(w.shape[0]):\n",
    "        for j in range(w.shape[1]):\n",
    "            w[i][j] = (z[i][j]*(1 - sobel_im[i][j]) + (1-z[i][j])*(1-g[i][j])) * (f-8) + 8\n",
    "    \n",
    "    boosted_im = np.zeros(im.shape)\n",
    "    for i in range(1, im.shape[0]-1):\n",
    "        for j in range(1, im.shape[1]-1):\n",
    "            high_boost_mask = 1/9*np.array([[-1, -1, -1], [-1, w[i][j], -1], [-1, -1, -1]], np.float32)\n",
    "            temp = convolve(im[i-1:i+2, j-1:j+2], high_boost_mask)\n",
    "            boosted_im[i][j] = temp[1][1]\n",
    "    \n",
    "    for i in range(1, im.shape[0]-1):\n",
    "        for j in range(1, im.shape[1]-1):\n",
    "            if boosted_im[i][j] > threshold:\n",
    "                boosted_im[i][j] = 255\n",
    "            else:\n",
    "                boosted_im[i][j] = 0\n",
    "\n",
    "    new_img = Image.fromarray(boosted_im.astype(np.uint8))\n",
    "    new_img.save(\"boosted.jpg\")\n",
    "    return boosted_im\n",
    "\n",
    "# Returns the neighbors of a given point\n",
    "def neighbors(im, point):\n",
    "    res = []\n",
    "    for i in range(point[0]-1, point[0]+2):\n",
    "        for j in range(point[1]-1, point[1]+2):\n",
    "            if (i == point[0] and j == point[1]):\n",
    "                continue\n",
    "            if i > 0 and i < im.shape[0] and j > 0 and j < im.shape[1]:\n",
    "                res.append((i,j))\n",
    "    # if (point[0] < im.shape[0] - 1):\n",
    "    #     res.append((point[0]+1, point[1]))\n",
    "    # if (point[0] > 1):\n",
    "    #     res.append((point[0]-1, point[1]))\n",
    "    # if (point[1] < im.shape[1] - 1):\n",
    "    #     res.append((point[0], point[1]+1))\n",
    "    # if (point[1] > 1):\n",
    "    #     res.append((point[0], point[1]-1))\n",
    "    return res\n",
    "\n",
    "def search(labeled_im, cur_label, r, c):\n",
    "    stack = []\n",
    "    stack.append((r,c))\n",
    "    while stack:\n",
    "        cur_node = stack.pop()\n",
    "        labeled_im[cur_node[0]][cur_node[1]] = cur_label\n",
    "        cur_neighbors = neighbors(labeled_im, cur_node)\n",
    "        for i,j in cur_neighbors:\n",
    "            if (labeled_im[i][j] == -1):\n",
    "                stack.append((i,j))\n",
    "\n",
    "def find_components(labeled_im):\n",
    "    cur_label = 0\n",
    "    for i in range(labeled_im.shape[0]):\n",
    "        for j in range(labeled_im.shape[1]):\n",
    "            if labeled_im[i][j] == -1:\n",
    "                cur_label += 1\n",
    "                search(labeled_im, cur_label, i, j)\n",
    "    print(str(cur_label) + \" connected components\")\n",
    "    return labeled_im, cur_label\n",
    "\n",
    "def label(im):\n",
    "    labeled_im = np.zeros(im.shape)\n",
    "    for i in range(labeled_im.shape[0]):\n",
    "        for j in range(labeled_im.shape[1]):\n",
    "            if im[i][j] == 0:\n",
    "                labeled_im[i][j] = -1\n",
    "            else:\n",
    "                labeled_im[i][j] = 0\n",
    "    \n",
    "    return find_components(labeled_im)\n",
    "\n",
    "import random\n",
    "def label_illustration(labeled_im):\n",
    "    label_to_color = {}\n",
    "    r_channel = np.zeros(labeled_im.shape)\n",
    "    g_channel = np.zeros(labeled_im.shape)\n",
    "    b_channel = np.zeros(labeled_im.shape)\n",
    "    ctr = 0\n",
    "    for i in range(labeled_im.shape[0]):\n",
    "        for j in range(labeled_im.shape[1]):\n",
    "            if labeled_im[i][j] == 0:\n",
    "                r = 255\n",
    "                g = 255\n",
    "                b = 255\n",
    "            elif labeled_im[i][j] in label_to_color:\n",
    "                r = label_to_color[labeled_im[i][j]][0]\n",
    "                g = label_to_color[labeled_im[i][j]][1]\n",
    "                b = label_to_color[labeled_im[i][j]][2]\n",
    "            else:\n",
    "                r = random.randint(0,255)\n",
    "                g = random.randint(0,255)\n",
    "                b = random.randint(0,255)\n",
    "                # ctr += 1\n",
    "                # if (ctr > 19):\n",
    "                #     r = 255\n",
    "                #     g = 255\n",
    "                #     b = 255\n",
    "                label_to_color[labeled_im[i][j]] = (r, g, b)\n",
    "                \n",
    "            r_channel[i][j] = r\n",
    "            g_channel[i][j] = g\n",
    "            b_channel[i][j] = b\n",
    "    \n",
    "    new_img = Image.fromarray(np.dstack((r_channel, g_channel, b_channel)).astype(np.uint8))\n",
    "    new_img.save(\"labeled_image.jpg\")\n",
    "\n",
    "# im = preprocess('data/test_face.jpg')\n",
    "# im = preprocess('data/leonardo.jpg')\n",
    "# labeled_im, cur_label = label(im)\n",
    "# label_illustration(labeled_im)\n",
    "\n",
    "############ Calculating centre of mass and orientation and grouping ############\n",
    "def calculate_mu(x_coords, y_coords, x_bar, y_bar, p, q):\n",
    "    mu = 0\n",
    "    x_diff = np.power(y_coords - y_bar, p)\n",
    "    y_diff = np.power(x_coords - x_bar, q)\n",
    "    mu = np.sum(x_diff)\n",
    "    mu += np.sum(y_diff)\n",
    "    # for i in range(len(x_coords)):\n",
    "    #     for j in range(len(y_coords)):\n",
    "    #         mu += np.power((x_coords[i] - x_bar),p) * np.power((y_coords[j] - y_bar),q)\n",
    "    return mu\n",
    "\n",
    "def get_component_indices(labeled_im, num_labels):\n",
    "    block_number_coords = np.zeros(num_labels)\n",
    "    x_bar_all = np.zeros(num_labels)\n",
    "    y_bar_all = np.zeros(num_labels)\n",
    "    theta_all = np.zeros(num_labels)\n",
    "    x_coords_all = []\n",
    "    y_coords_all = []\n",
    "    for cur_label in range(1, num_labels + 1):\n",
    "        # print(cur_label)\n",
    "        x_coords = np.where( labeled_im == cur_label )[0] \n",
    "        y_coords = np.where( labeled_im == cur_label )[1] \n",
    "        x_coords_all.append(x_coords)\n",
    "        y_coords_all.append(y_coords)\n",
    "        block_number_coords[cur_label - 1] = len(x_coords)\n",
    "\n",
    "        x_bar_all[cur_label - 1] = np.average(x_coords)\n",
    "        y_bar_all[cur_label - 1] = np.average(y_coords)\n",
    "\n",
    "        if (len(x_coords)>5000 or len(y_coords)>5000 or num_labels > 100):\n",
    "            continue\n",
    "        mu_1_1 = calculate_mu(x_coords, y_coords, x_bar_all[cur_label - 1], y_bar_all[cur_label - 1], 1, 1)\n",
    "        mu_2_0 = calculate_mu(x_coords, y_coords, x_bar_all[cur_label - 1], y_bar_all[cur_label - 1], 2, 0)\n",
    "        mu_0_2 = calculate_mu(x_coords, y_coords, x_bar_all[cur_label - 1], y_bar_all[cur_label - 1], 0, 2)\n",
    "\n",
    "        if (mu_2_0 - mu_0_2) == 0: \n",
    "            continue\n",
    "        theta_all[cur_label - 1] = 0.5 * ( np.arctan2( 2*mu_1_1, (mu_2_0 - mu_0_2) ) )\n",
    "\n",
    "    return x_bar_all, y_bar_all, theta_all, block_number_coords, x_coords_all, y_coords_all\n",
    "\n",
    "# test_im = np.zeros((100,100))\n",
    "# for i in range(45,55):\n",
    "#     test_im[50][i] = 1.\n",
    "#     test_im[51][i] = 1.\n",
    "#     test_im[60][i] = 2.\n",
    "#     test_im[61][i] = 2.\n",
    "#     test_im[i][98] = 3.\n",
    "#     test_im[i][99] = 3.\n",
    "# x_bar_all, y_bar_all, theta_all, block_number_coords, x_coords_all, y_coords_all = get_component_indices(test_im, 3)\n",
    "# print(x_bar_all)\n",
    "# print(y_bar_all)\n",
    "# print(theta_all)\n",
    "# print(block_number_coords)\n",
    "# print(x_coords_all)\n",
    "# print(y_coords_all)\n",
    "\n",
    "def find_blocks_within_radius(cur_block_idx, labeled_im, x_bar, y_bar, radius):\n",
    "    min_y = int(np.floor(y_bar - radius))\n",
    "    max_y = int(np.ceil(y_bar + radius))\n",
    "\n",
    "    blocks_within_radius = []\n",
    "    for y in range(min_y + 1, max_y):\n",
    "        # From the formula: r^2 = (x-h)^2 + (y-k)^2, where \n",
    "        # h,k are the distances from x,y respectively\n",
    "        x_diff = np.power(radius,2) - np.power(y-y_bar,2)\n",
    "        min_x = int(np.floor(x_bar - x_diff))\n",
    "        max_x = int(np.ceil(x_bar + x_diff))\n",
    "\n",
    "        for x in range(min_x + 1, max_x):\n",
    "            if x < labeled_im.shape[0] and y < labeled_im.shape[1] and labeled_im[x,y] != 0 and labeled_im[x,y] != cur_block_idx+1:\n",
    "                if labeled_im[x,y] not in blocks_within_radius:\n",
    "                    blocks_within_radius.append(labeled_im[x,y])\n",
    "    return blocks_within_radius\n",
    "\n",
    "\n",
    "def find_nearest_block(cur_block_idx, blocks_within_radius, x_bar, y_bar, radius):\n",
    "    min_distance_block = None\n",
    "    min_distance = np.inf\n",
    "    for block in blocks_within_radius:\n",
    "        x_dist = np.power(x_bar[int(block - 1)] - x_bar[cur_block_idx], 2)\n",
    "        y_dist = np.power(y_bar[int(block - 1)] - y_bar[cur_block_idx], 2)\n",
    "        distance_to_cur_block = np.sqrt(x_dist + y_dist)\n",
    "        if distance_to_cur_block < min_distance and distance_to_cur_block <= radius:\n",
    "            min_distance = distance_to_cur_block\n",
    "            min_distance_block = block\n",
    "\n",
    "    return min_distance_block \n",
    "\n",
    "def grouping(labeled_im, cur_label, block_number_coords, x_bar, y_bar, x_coords_all, y_coords_all):\n",
    "    N_max = 100 #??????? This changes based on the image - need to test different values\n",
    "    for N in range(1, N_max + 1):\n",
    "        radius = 8 - ( 6 * ( (N - 1) / (N_max - 1) ) )\n",
    "        count = 0\n",
    "        for i in range(cur_label):\n",
    "            blocks_within_radius = []\n",
    "            if block_number_coords[i] == N:\n",
    "                blocks_within_radius = find_blocks_within_radius(i, labeled_im, x_bar[i], y_bar[i], radius)\n",
    "            else:\n",
    "                continue\n",
    "\n",
    "            if len(blocks_within_radius) > 0:\n",
    "                nearest_block = find_nearest_block(i, blocks_within_radius, x_bar, y_bar, radius)\n",
    "                if nearest_block is None:\n",
    "                    continue\n",
    "                nearest_block = int(nearest_block)\n",
    "            else:\n",
    "                continue\n",
    "\n",
    "            #lies on same axis if any of the x coordinates are the same\n",
    "            # lies_on_same_axis = bool(set(x_coords_all[nearest_block - 1]) & set(x_coords_all[i]))\n",
    "            # lies_on_same_axis = False\n",
    "            # if block_number_coords[nearest_block - 1] < N_max or lies_on_same_axis:\n",
    "            block_to_merge_with = max(i + 1, nearest_block)\n",
    "            block_to_merge = min(i + 1, nearest_block)\n",
    "\n",
    "            # print(str(i+1) + \" \" + str(nearest_block))\n",
    "            # print(str(block_to_merge_with) + \" \" + str(block_to_merge))\n",
    "\n",
    "            x_coords = x_coords_all[block_to_merge - 1]\n",
    "            y_coords = y_coords_all[block_to_merge - 1]\n",
    "\n",
    "            labeled_im[x_coords, y_coords] = block_to_merge_with\n",
    "            block_number_coords[block_to_merge_with-1] = block_number_coords[block_to_merge_with-1] + block_number_coords[block_to_merge-1]\n",
    "            block_number_coords[block_to_merge-1] = 0\n",
    "            new_x_coords = np.append(x_coords_all[block_to_merge_with-1], x_coords)\n",
    "            new_y_coords = np.append(y_coords_all[block_to_merge_with-1], y_coords)\n",
    "            x_coords_all[block_to_merge_with-1] = new_x_coords\n",
    "            y_coords_all[block_to_merge_with-1] = new_y_coords\n",
    "            x_coords_all[block_to_merge-1] = np.array([])\n",
    "            y_coords_all[block_to_merge-1] = np.array([])\n",
    "\n",
    "    return labeled_im\n",
    "\n",
    "# Make labels consecutive in order after grouping\n",
    "def relabel_grouped_im(labeled_im, num_labels):\n",
    "    old_label_to_new_map = {}\n",
    "    ctr = 0\n",
    "    for i in range(labeled_im.shape[0]):\n",
    "        for j in range(labeled_im.shape[1]):\n",
    "            if labeled_im[i][j] == 0:\n",
    "                continue\n",
    "            if labeled_im[i][j] not in old_label_to_new_map:\n",
    "                ctr += 1\n",
    "                old_label_to_new_map[labeled_im[i][j]] = ctr\n",
    "            labeled_im[i][j] = old_label_to_new_map[labeled_im[i][j]]\n",
    "    if ctr != num_labels:\n",
    "        print(\"something broke\")\n",
    "        print(ctr)\n",
    "        print(num_labels)\n",
    "\n",
    "# For testing\n",
    "def use_only_good_labels(labeled_im, labels_to_use):\n",
    "    num_labels = len(labels_to_use)\n",
    "    old_label_to_new_map = {}\n",
    "    ctr = 0\n",
    "    for i in range(labeled_im.shape[0]):\n",
    "        for j in range(labeled_im.shape[1]):\n",
    "            if labeled_im[i][j] == 0:\n",
    "                continue\n",
    "            if labeled_im[i][j] not in labels_to_use:\n",
    "                labeled_im[i][j] = 0\n",
    "                continue\n",
    "            if labeled_im[i][j] not in old_label_to_new_map:\n",
    "                ctr += 1\n",
    "                old_label_to_new_map[labeled_im[i][j]] = ctr\n",
    "            labeled_im[i][j] = old_label_to_new_map[labeled_im[i][j]]\n",
    "    if ctr != num_labels:\n",
    "        print(\"something broke\")\n",
    "        print(ctr)\n",
    "        print(num_labels)\n",
    "\n",
    "            \n",
    "# Default 60 length for testing\n",
    "# Need to find a way to find length of semimajor axis\n",
    "def get_block_lengths(x_bar_all, y_bar_all, theta_all, x_coords_all, y_coords_all):\n",
    "    block_lengths = np.zeros(len(theta_all))\n",
    "    alpha_max = np.zeros(len(theta_all))\n",
    "    alpha_min = np.zeros(len(theta_all))\n",
    "    beta_max = np.zeros(len(theta_all))\n",
    "    beta_min = np.zeros(len(theta_all))\n",
    "    for i in range(len(block_lengths)):\n",
    "        # if i == 8: print(x_coords_all[i], y_coords_all[i], theta_all[i])\n",
    "        x = np.linspace(min(x_coords_all[i]), max(x_coords_all[i]), num=max(x_coords_all[i]) - min(x_coords_all[i]) + 1)\n",
    "        y = np.linspace(min(y_coords_all[i]), max(y_coords_all[i]), num=max(y_coords_all[i]) - min(y_coords_all[i]) + 1)\n",
    "        # print(min(x_coords_all[i]), max(x_coords_all[i]))\n",
    "        # print(min(y_coords_all[i]), max(y_coords_all[i]))\n",
    "        # if i == 0: print(x,y)\n",
    "        max_x = -np.Inf\n",
    "        max_y = -np.Inf\n",
    "        min_x = np.Inf\n",
    "        min_y = np.Inf\n",
    "        for a in x:\n",
    "            for j in y:\n",
    "                alpha = a * np.cos(theta_all[i]) + j * np.sin(theta_all[i])\n",
    "                beta = -a * np.sin(theta_all[i]) + j * np.cos(theta_all[i]) \n",
    "                if alpha < min_x:\n",
    "                    min_x = alpha\n",
    "                if alpha > max_x:\n",
    "                    max_x = alpha\n",
    "                if beta < min_y:\n",
    "                    min_y = beta\n",
    "                if beta > max_y:\n",
    "                    max_y = beta\n",
    "        block_lengths[i] = max(max_x - min_x, max_y - min_y)\n",
    "        # block_lengths[i] = max(max(x_coords_all[i]) - min(x_coords_all[i]), max(y_coords_all[i]) - min(y_coords_all[i]))\n",
    "        # alpha_max[i] = x_bar_all[i] + max_x\n",
    "        # alpha_min[i] = x_bar_all[i] - min_x\n",
    "        # beta_max[i] = y_bar_all[i] + max_y\n",
    "        # beta_min[i] = y_bar_all[i] - min_y\n",
    "\n",
    "        alpha_max[i] = max(x_coords_all[i])\n",
    "        alpha_min[i] = min(x_coords_all[i])\n",
    "        beta_max[i] = max(y_coords_all[i])\n",
    "        beta_min[i] = min(y_coords_all[i])\n",
    "    # print('xxxxxxxxx')\n",
    "    # print(alpha_max, alpha_min, beta_max, beta_min)\n",
    "    # print('xxxxxxxxx')\n",
    "#         block_lengths[i] = 60\n",
    "    # print(min(x_coords_all[i]), max(x_coords_all[i]))\n",
    "    return block_lengths, alpha_max, alpha_min, beta_max, beta_min\n",
    "\n",
    "def remove_small_blocks(labeled_im, block_number_coords, threshold = 30):\n",
    "    for i in range(labeled_im.shape[0]):\n",
    "        for j in range(labeled_im.shape[1]):\n",
    "            if block_number_coords[int(labeled_im[i][j] - 1)] < threshold:\n",
    "                labeled_im[i][j] = 0\n",
    "    \n",
    "    num_labels = len(np.unique(labeled_im)) - 1\n",
    "    relabel_grouped_im(labeled_im, num_labels)"
   ]
  },
  {
   "cell_type": "code",
   "execution_count": 2,
   "id": "041bf0b9",
   "metadata": {},
   "outputs": [],
   "source": [
    "import numpy as np\n",
    "import math\n",
    "from tqdm import tqdm\n",
    "class Block:\n",
    "    def __init__(self,xcenter,ycenter,theta,length):\n",
    "        #xcenter, ycenter: The center of our block\n",
    "        #Theta: The orientation of the block\n",
    "        #Length: The length of semimajor axis\n",
    "        self.x = ycenter\n",
    "        self.y = xcenter\n",
    "        self.angle = theta\n",
    "        self.length = length\n",
    "\n",
    "    def GetCenter(self):\n",
    "        return (self.x,self.y)\n",
    "\n",
    "    def GetAngle(self):\n",
    "        return self.angle\n",
    "\n",
    "    def GetLength(self):\n",
    "        return self.length\n",
    "\n",
    "    def ComputeDistance(self,other):\n",
    "        x2,y2 = other.GetCenter()\n",
    "        return np.sqrt((self.x-x2)**2+(self.y-y2)**2)\n",
    "\n",
    "def Baseline(block1,block2,threshold=0.7):\n",
    "    x1,y1 = block1.GetCenter()\n",
    "    x2,y2 = block2.GetCenter()\n",
    "    a = y2-y1\n",
    "    b = x1-x2\n",
    "    if b == 0:\n",
    "        return []\n",
    "    c = x2 * y1 - x1 * y2\n",
    "    theta = math.atan(-a/b)\n",
    "    if theta < math.pi * -1/2 or theta >= math.pi/2:\n",
    "        return []\n",
    "    #print(a,b,c)\n",
    "    D = block1.ComputeDistance(block2)\n",
    "    l1 = block1.GetLength()/D\n",
    "    l2 = block2.GetLength()/D\n",
    "    ep =  (l1 - l2)**2\n",
    "    ep += (l1 + l2-1)**2\n",
    "    ep += (block1.GetAngle() - theta)**2\n",
    "    ep += (block2.GetAngle() - theta)**2\n",
    "    ep = -1.2 *ep\n",
    "    score = math.exp(ep)\n",
    "    #print(score)\n",
    "    if score < threshold:\n",
    "        return []\n",
    "\n",
    "    return [a,b,c,D,score]\n",
    "\n",
    "def ComputeProbability(a,b,c,D,block,factor):\n",
    "    x,y = block.GetCenter()\n",
    "    d = np.abs(a*x+b*y+c)/np.sqrt(a**2+b**2)\n",
    "    dlocal = factor * D\n",
    "    ep = (d - dlocal)/D\n",
    "    ep =-4.8 * (ep ** 2)\n",
    "    return math.exp(ep)\n",
    "\n",
    "def TotalProbability(le,re,reb,leb,mouth,nose,Weights=[0.5,0.2,0.1,0.1,0.1],Factors=[1,0.3,0.6],threshold=0.7):\n",
    "    #We add additional constraint here\n",
    "    \n",
    "    lex,ley = le.GetCenter()\n",
    "    rex,rey = re.GetCenter()\n",
    "    #Left eye should be on the left\n",
    "    if lex >= rex:\n",
    "        return 0\n",
    "    \n",
    "    lebx,leby = leb.GetCenter()\n",
    "    rebx,reby = reb.GetCenter()\n",
    "    \n",
    "    #Eyebrow should be above eyes\n",
    "    if leby > ley:\n",
    "        return 0\n",
    "    if lebx >= rebx:\n",
    "        return 0\n",
    "    if reby > rey:\n",
    "        return 0\n",
    "    \n",
    "    mx,my = mouth.GetCenter()\n",
    "    nx,ny = nose.GetCenter()\n",
    "    \n",
    "    #Mouth and nose should be in-between\n",
    "    if mx > rebx or mx < lebx:\n",
    "        return 0\n",
    "    if nx > rebx or nx < lebx:\n",
    "        return 0\n",
    "    \n",
    "    #Mouth should be below the nose\n",
    "    if my < ny:\n",
    "        return 0\n",
    "    if ny < ley or ny < rey:\n",
    "        return 0\n",
    "    \n",
    "    ret = Baseline(re,le,threshold)\n",
    "    if len(ret) == 0:\n",
    "        return 0\n",
    "    \n",
    "    a,b,c,D,score = ret\n",
    "    \n",
    "    eyelength = max(le.GetLength(),re.GetLength())\n",
    "    if leb.GetLength() > 2.5 * eyelength:\n",
    "        return 0\n",
    "    if reb.GetLength() > 2.5 * eyelength:\n",
    "        return 0\n",
    "    \n",
    "    if nose.GetLength() > 3 * eyelength:\n",
    "        return 0\n",
    "    \n",
    "    if mouth.GetLength() > 4 * eyelength:\n",
    "        return 0\n",
    "    \n",
    "    score = score * Weights[0]\n",
    "    score += Weights[1] * ComputeProbability(a,b,c,D,mouth,Factors[0])\n",
    "    score += Weights[2] * ComputeProbability(a,b,c,D,reb,Factors[1])\n",
    "    score += Weights[3] * ComputeProbability(a,b,c,D,leb,Factors[1])\n",
    "    score += Weights[4] * ComputeProbability(a,b,c,D,nose,Factors[2])\n",
    "    return score\n",
    "\n",
    "def Matching(blocks):\n",
    "    scores = []\n",
    "    indices = []\n",
    "    length = len(blocks)\n",
    "    for le in tqdm(range(length)):\n",
    "        \n",
    "        for re in range(length):\n",
    "            if re == le:\n",
    "                continue\n",
    "            ret = Baseline(blocks[le],blocks[re])\n",
    "            if len(ret) == 0:\n",
    "                continue\n",
    "\n",
    "            for reb in range(length):\n",
    "                if reb == le or reb == re:\n",
    "                    continue\n",
    "\n",
    "                for leb in range(length):\n",
    "                    if leb == le or leb == re or leb == reb:\n",
    "                        continue\n",
    "\n",
    "                    for mouth in range(length):\n",
    "                        if mouth == reb or mouth == leb or mouth == le or mouth == re:\n",
    "                            continue\n",
    "\n",
    "                        for nose in range(length):\n",
    "                            if nose == mouth or nose == reb or nose == leb or nose == le or nose == re:\n",
    "                                continue\n",
    "                            score = TotalProbability(blocks[le],blocks[re],blocks[reb],blocks[leb],blocks[mouth],blocks[nose]) \n",
    "                            if score > 0.5:\n",
    "                                scores.append(score)\n",
    "                                indices.append((le,re,reb,leb,mouth,nose))\n",
    "    if len(scores) == 0:\n",
    "        return []\n",
    "    \n",
    "    max_idx = np.argmax(scores)\n",
    "\n",
    "    print(\"The block # for left eye, right eye, left eyebrow, right eyebrow, mouth and nose are \",indices[max_idx])\n",
    "    print(\"The score is \",scores[max_idx])\n",
    "    return indices[max_idx]"
   ]
  },
  {
   "cell_type": "code",
   "execution_count": 9,
   "id": "1260d75d",
   "metadata": {},
   "outputs": [
    {
     "name": "stdout",
     "output_type": "stream",
     "text": [
      "1358 connected components\n",
      "96 Connected Components\n",
      "block lengths\n",
      "[612. 576. 611. 408.   0.   0.   8.   3.   2.  10.   0.   0.   7.   2.\n",
      "   0.   0.   1.   2.   6.   2. 104.  70.   0.   8.   0.   2.   1.  65.\n",
      "   0.  98.   8.  20.   0.   8.   3.  11.   0.   5.   1.   4.  18.   7.\n",
      "   9.   0.   0.   4.   2.   3.   8.   0.   2.   0.   5.  13.  13.  37.\n",
      "  15.   0.   0.   3.   3. 102.   0.  14.   1.   0.   5.   3.  63.   3.\n",
      "  17.   0.  76.   0.   7.   7.   1.   9.   5.  45.  12.   0.   6.   8.\n",
      "   6.   8.   6.   2.   6.  10.   9.  18.  11.   0.   0.   6.]\n",
      "block lengths end\n"
     ]
    }
   ],
   "source": [
    "im = preprocess(\"test1.png\")\n",
    "labeled_im, cur_label = label(im)\n",
    "x_bar_all, y_bar_all, theta_all, block_number_coords, x_coords_all, y_coords_all = get_component_indices(labeled_im, cur_label)\n",
    "labeled_im = grouping(labeled_im, cur_label, block_number_coords, x_bar_all, y_bar_all, x_coords_all, y_coords_all)\n",
    "print(str(len(np.unique(labeled_im)) - 1) + \" Connected Components\")\n",
    "num_labels = len(np.unique(labeled_im)) - 1\n",
    "relabel_grouped_im(labeled_im, num_labels)\n",
    "\n",
    "# good_labels = {20, 21, 22, 23, 24, 25}\n",
    "# use_only_good_labels(labeled_im, good_labels)\n",
    "# num_labels = len(np.unique(labeled_im)) - 1\n",
    "label_illustration(labeled_im)\n",
    "\n",
    "x_bar_all, y_bar_all, theta_all, block_number_coords, x_coords_all, y_coords_all = get_component_indices(labeled_im, num_labels)\n",
    "block_lengths, alpha_max, alpha_min, beta_max, beta_min = get_block_lengths(x_bar_all, y_bar_all, theta_all, x_coords_all, y_coords_all)\n",
    "print(\"block lengths\")\n",
    "# print(x_bar_all, y_bar_all)\n",
    "print(block_lengths)\n",
    "print(\"block lengths end\")\n",
    "# print(x_bar_all)\n",
    "# print(y_bar_all)\n",
    "# print(theta_all)\n",
    "\n",
    "block_indices = []\n",
    "blocks = []\n",
    "for i in range(len(block_lengths)):\n",
    "    if block_lengths[i] > 20:\n",
    "        blocks.append(Block(x_bar_all[i], y_bar_all[i], theta_all[i], block_lengths[i]))\n",
    "        block_indices.append(i)\n",
    "        "
   ]
  },
  {
   "cell_type": "code",
   "execution_count": null,
   "id": "4b269d8f",
   "metadata": {},
   "outputs": [],
   "source": []
  },
  {
   "cell_type": "code",
   "execution_count": 10,
   "id": "efb9a6fa",
   "metadata": {},
   "outputs": [
    {
     "name": "stderr",
     "output_type": "stream",
     "text": [
      "100%|█████████████████████████████████████████████████████████████████████████████████| 13/13 [00:00<00:00, 210.24it/s]"
     ]
    },
    {
     "name": "stdout",
     "output_type": "stream",
     "text": [
      "187\n",
      "The block # for left eye, right eye, left eyebrow, right eyebrow, mouth and nose are  (7, 6, 0, 2, 9, 8)\n",
      "The score is  0.915892745857174\n"
     ]
    },
    {
     "name": "stderr",
     "output_type": "stream",
     "text": [
      "\n"
     ]
    }
   ],
   "source": [
    "ret = Matching(blocks)"
   ]
  },
  {
   "cell_type": "code",
   "execution_count": 11,
   "id": "5f72060a",
   "metadata": {},
   "outputs": [],
   "source": [
    "final = []\n",
    "for each in ret:\n",
    "    final.append(block_indices[each])"
   ]
  },
  {
   "cell_type": "code",
   "execution_count": 12,
   "id": "392f0de4",
   "metadata": {},
   "outputs": [],
   "source": [
    "face_locations = []\n",
    "for each in final:\n",
    "    #x,y = blocks[each].GetCenter()\n",
    "    top = int(alpha_min[each])\n",
    "    bottom = int(alpha_max[each])\n",
    "    left = int(beta_min[each])\n",
    "    right = int(beta_max[each])\n",
    "    face_locations.append([top,right,bottom,left])\n"
   ]
  },
  {
   "cell_type": "code",
   "execution_count": 13,
   "id": "d6d71057",
   "metadata": {},
   "outputs": [
    {
     "name": "stdout",
     "output_type": "stream",
     "text": [
      "[[327, 291, 364, 193], [323, 406, 353, 341], [0, 577, 612, 0], [1, 0, 612, 0], [476, 339, 499, 237], [429, 304, 455, 267]]\n"
     ]
    }
   ],
   "source": [
    "print(face_locations)"
   ]
  },
  {
   "cell_type": "code",
   "execution_count": 15,
   "id": "55f84bbe",
   "metadata": {},
   "outputs": [
    {
     "name": "stdout",
     "output_type": "stream",
     "text": [
      "(613, 578, 3)\n",
      "test1_out.jpg\n"
     ]
    }
   ],
   "source": [
    "DrawRectangles(\"test1.png\",face_locations[2:4])"
   ]
  },
  {
   "cell_type": "code",
   "execution_count": 115,
   "id": "b1b08087",
   "metadata": {},
   "outputs": [
    {
     "name": "stdout",
     "output_type": "stream",
     "text": [
      "(504, 450, 3)\n",
      "_out.jpg\n"
     ]
    }
   ],
   "source": []
  },
  {
   "cell_type": "code",
   "execution_count": 3,
   "id": "94fcf9b6",
   "metadata": {},
   "outputs": [],
   "source": [
    "def DrawRectangles(filename,face_locations):\n",
    "    #start = time.time()\n",
    "    image = cv2.imread(filename)\n",
    "    print(image.shape)\n",
    "    height = image.shape[0]\n",
    "    width = image.shape[1]\n",
    "    R = image[:,:,0]\n",
    "    G = image[:,:,1]\n",
    "    B = image[:,:,2]\n",
    "    for each in face_locations:\n",
    "        top,right,bottom,left = each\n",
    "        for i in range(left,right):\n",
    "            B[top][i] = 255\n",
    "            B[top+1][i] = 255\n",
    "            if top-1 >= 0:\n",
    "                B[top-1][i] = 255\n",
    "            B[bottom][i] = 255\n",
    "            if bottom + 1 < height:\n",
    "                B[bottom+1][i] = 255\n",
    "            B[bottom-1][i] = 255\n",
    "            \n",
    "        for j in range(top,bottom):\n",
    "            B[j][left] = 255\n",
    "            B[j][right] = 255\n",
    "            B[j][left+1] = 255\n",
    "            \n",
    "            if left - 1 >= 0:\n",
    "                B[j][left-1] = 255\n",
    "            if right + 1 < width:\n",
    "                B[j][right+1] = 255\n",
    "            B[j][right-1] = 255\n",
    "    \n",
    "    \n",
    "    outfile = filename.split(\".\")[0] + \"_out.jpg\"\n",
    "    print(outfile)\n",
    "    im = Image.fromarray(np.stack([B,G,R],axis=2))\n",
    "    #im.show()\n",
    "    cv2.imwrite(outfile,np.stack([R,G,B],axis=2))\n",
    "    \n",
    "def PrintAllBlocks(image_name,block_indices = None):\n",
    "    im = preprocess(image_name)\n",
    "    labeled_im, cur_label = label(im)\n",
    "    x_bar_all, y_bar_all, theta_all, block_number_coords, x_coords_all, y_coords_all = get_component_indices(labeled_im, cur_label)\n",
    "    labeled_im = grouping(labeled_im, cur_label, block_number_coords, x_bar_all, y_bar_all, x_coords_all, y_coords_all)\n",
    "    print(str(len(np.unique(labeled_im)) - 1) + \" Connected Components\")\n",
    "    num_labels = len(np.unique(labeled_im)) - 1\n",
    "    relabel_grouped_im(labeled_im, num_labels)\n",
    "\n",
    "    # good_labels = {20, 21, 22, 23, 24, 25}\n",
    "    # use_only_good_labels(labeled_im, good_labels)\n",
    "    # num_labels = len(np.unique(labeled_im)) - 1\n",
    "    label_illustration(labeled_im)\n",
    "\n",
    "    x_bar_all, y_bar_all, theta_all, block_number_coords, x_coords_all, y_coords_all = get_component_indices(labeled_im, num_labels)\n",
    "    block_lengths, alpha_max, alpha_min, beta_max, beta_min = get_block_lengths(x_bar_all, y_bar_all, theta_all, x_coords_all, y_coords_all)\n",
    "    face_locations = []\n",
    "    for i in range(len(block_lengths)):\n",
    "        if block_indices is not None and i not in block_indices:\n",
    "            continue\n",
    "        \n",
    "        top = int(alpha_min[i])\n",
    "        bottom = int(alpha_max[i])\n",
    "        left = int(beta_min[i])\n",
    "        right = int(beta_max[i])\n",
    "        face_locations.append([top,right,bottom,left])\n",
    "        \n",
    "    DrawRectangles(image_name,face_locations)\n",
    "    "
   ]
  },
  {
   "cell_type": "code",
   "execution_count": 4,
   "id": "9280a98d",
   "metadata": {},
   "outputs": [],
   "source": [
    "def DrawRectanglesFinal(filename,face_locations):\n",
    "    #start = time.time()\n",
    "    image = cv2.imread(filename)\n",
    "    #print(image.shape)\n",
    "    height = image.shape[0]\n",
    "    width = image.shape[1]\n",
    "    R = image[:,:,0]\n",
    "    G = image[:,:,1]\n",
    "    B = image[:,:,2]\n",
    "    for each in face_locations:\n",
    "        top,right,bottom,left = each\n",
    "        for i in range(left,right):\n",
    "            B[top][i] = 255\n",
    "            B[top+1][i] = 255\n",
    "            if top-1 >= 0:\n",
    "                B[top-1][i] = 255\n",
    "            B[bottom][i] = 255\n",
    "            if bottom + 1 < height:\n",
    "                B[bottom+1][i] = 255\n",
    "            B[bottom-1][i] = 255\n",
    "            \n",
    "        for j in range(top,bottom):\n",
    "            B[j][left] = 255\n",
    "            B[j][right] = 255\n",
    "            B[j][left+1] = 255\n",
    "            \n",
    "            if left - 1 >= 0:\n",
    "                B[j][left-1] = 255\n",
    "            if right + 1 < width:\n",
    "                B[j][right+1] = 255\n",
    "            B[j][right-1] = 255\n",
    "    \n",
    "    \n",
    "    outfile = filename.split(\".\")[0] + \"_final.jpg\"\n",
    "    #print(outfile)\n",
    "    im = Image.fromarray(np.stack([B,G,R],axis=2))\n",
    "    #im.show()\n",
    "    cv2.imwrite(outfile,np.stack([R,G,B],axis=2))"
   ]
  },
  {
   "cell_type": "code",
   "execution_count": 5,
   "id": "f58ecb58",
   "metadata": {},
   "outputs": [],
   "source": [
    "def FaceDetection(image_name,threshold = 20):\n",
    "    im = preprocess(image_name)\n",
    "    labeled_im, cur_label = label(im)\n",
    "    x_bar_all, y_bar_all, theta_all, block_number_coords, x_coords_all, y_coords_all = get_component_indices(labeled_im, cur_label)\n",
    "    labeled_im = grouping(labeled_im, cur_label, block_number_coords, x_bar_all, y_bar_all, x_coords_all, y_coords_all)\n",
    "    print(str(len(np.unique(labeled_im)) - 1) + \" Connected Components\")\n",
    "    num_labels = len(np.unique(labeled_im)) - 1\n",
    "    relabel_grouped_im(labeled_im, num_labels)\n",
    "\n",
    "    # good_labels = {20, 21, 22, 23, 24, 25}\n",
    "    # use_only_good_labels(labeled_im, good_labels)\n",
    "    # num_labels = len(np.unique(labeled_im)) - 1\n",
    "    label_illustration(labeled_im)\n",
    "\n",
    "    x_bar_all, y_bar_all, theta_all, block_number_coords, x_coords_all, y_coords_all = get_component_indices(labeled_im, num_labels)\n",
    "    block_lengths, alpha_max, alpha_min, beta_max, beta_min = get_block_lengths(x_bar_all, y_bar_all, theta_all, x_coords_all, y_coords_all)\n",
    "    print(\"block lengths\")\n",
    "    # print(x_bar_all, y_bar_all)\n",
    "    print(block_lengths)\n",
    "    print(\"block lengths end\")\n",
    "    # print(x_bar_all)\n",
    "    # print(y_bar_all)\n",
    "    # print(theta_all)\n",
    "\n",
    "\n",
    "    block_indices = []\n",
    "    blocks = []\n",
    "    for i in range(len(block_lengths)):\n",
    "        if block_lengths[i] > threshold:\n",
    "            blocks.append(Block(x_bar_all[i], y_bar_all[i], theta_all[i], block_lengths[i]))\n",
    "            block_indices.append(i)\n",
    "\n",
    "    ret = Matching(blocks)\n",
    "    \n",
    "    final = []\n",
    "    for each in ret:\n",
    "        final.append(block_indices[each])\n",
    "    face_locations = []\n",
    "    for each in final:\n",
    "        #x,y = blocks[each].GetCenter()\n",
    "        top = int(alpha_min[each])\n",
    "        bottom = int(alpha_max[each])\n",
    "        left = int(beta_min[each])\n",
    "        right = int(beta_max[each])\n",
    "        face_locations.append([top,right,bottom,left])\n",
    "    \n",
    "    DrawRectangles(image_name,face_locations)"
   ]
  },
  {
   "cell_type": "code",
   "execution_count": 27,
   "id": "4f3806fe",
   "metadata": {},
   "outputs": [
    {
     "name": "stdout",
     "output_type": "stream",
     "text": [
      "1397 connected components\n",
      "201 Connected Components\n"
     ]
    },
    {
     "name": "stderr",
     "output_type": "stream",
     "text": [
      " 44%|████████████████████████████████████▎                                              | 7/16 [00:00<00:00, 50.13it/s]"
     ]
    },
    {
     "name": "stdout",
     "output_type": "stream",
     "text": [
      "block lengths\n",
      "[348. 159. 503. 287.   3.   6.   7.   7.  13.  10.   4.   0.   0.  10.\n",
      "   0.   0.   1.   3.   0.   1.   7.  15.   0.   0.   9.   3.   2.   3.\n",
      "  16.   0.   1.  41.   0.  85.   0.   0.   0.  57.   2.  14.   0.   3.\n",
      "   0.  11.   2.   3.   0.   0.   0.  71.   4.   1.   5.   7.   5.   2.\n",
      "  10.  68.   4.   0.   4.  12.   1.   1.   0.   1.   9.   7.   3.   6.\n",
      "   7.   4.  10.   0.   1.  10.   0.   4.   0.   0.   5.   7.  13.  13.\n",
      "   8.   1.  28.   0.   0.  65.  10.   6.   8.   0.   2.  11.   8.   0.\n",
      "   0.   4.   4.   7.   0.  10.   5.   2.  12.   3.   0.   0.   1.   0.\n",
      "   4.   2.   1.   0.   2.   1.  10.  11.  12. 110.   6.   0.  21.   8.\n",
      "   8.   8.  25.   5.   7.   0.   2.   4.   1.   2.  15.  10.   8.   3.\n",
      "   5.   6.  37.   5.   9.  19.   5. 128.   2.   0.   7.   0.   5.   5.\n",
      "   5.   0.   7.   0.   5.  10.  13.   0.  10.   2.   0.   1.   5.   7.\n",
      "   4.   1.   2.   5.   7.   1.   9.   2.   6.   2.   0.   2.   8.   0.\n",
      "  14.   1.   7.   9.   2.   9.   6.   2.   7.   7.   0.   3.   0.   0.\n",
      "   4.   0.  10.   0.   2.]\n",
      "block lengths end\n"
     ]
    },
    {
     "name": "stderr",
     "output_type": "stream",
     "text": [
      "100%|██████████████████████████████████████████████████████████████████████████████████| 16/16 [00:00<00:00, 48.76it/s]\n"
     ]
    },
    {
     "name": "stdout",
     "output_type": "stream",
     "text": [
      "49\n",
      "The block # for left eye, right eye, left eyebrow, right eyebrow, mouth and nose are  (8, 7, 4, 6, 11, 10)\n",
      "The score is  0.9813515842626044\n",
      "(504, 450, 3)\n",
      "test_face_out.jpg\n"
     ]
    }
   ],
   "source": [
    "FaceDetection(\"test_face.jpg\")"
   ]
  },
  {
   "cell_type": "code",
   "execution_count": 6,
   "id": "a6a1c216",
   "metadata": {},
   "outputs": [],
   "source": [
    "def FaceDetectionFinal(image_name,threshold = 20):\n",
    "    import time\n",
    "    time1 = time.time()\n",
    "    im = preprocess(image_name)\n",
    "    labeled_im, cur_label = label(im)\n",
    "    time2 = time.time()\n",
    "    x_bar_all, y_bar_all, theta_all, block_number_coords, x_coords_all, y_coords_all = get_component_indices(labeled_im, cur_label)\n",
    "    labeled_im = grouping(labeled_im, cur_label, block_number_coords, x_bar_all, y_bar_all, x_coords_all, y_coords_all)\n",
    "    #print(str(len(np.unique(labeled_im)) - 1) + \" Connected Components\")\n",
    "    time3 = time.time()\n",
    "    num_labels = len(np.unique(labeled_im)) - 1\n",
    "    relabel_grouped_im(labeled_im, num_labels)\n",
    "\n",
    "    # good_labels = {20, 21, 22, 23, 24, 25}\n",
    "    # use_only_good_labels(labeled_im, good_labels)\n",
    "    # num_labels = len(np.unique(labeled_im)) - 1\n",
    "    label_illustration(labeled_im)\n",
    "\n",
    "    x_bar_all, y_bar_all, theta_all, block_number_coords, x_coords_all, y_coords_all = get_component_indices(labeled_im, num_labels)\n",
    "    block_lengths, alpha_max, alpha_min, beta_max, beta_min = get_block_lengths(x_bar_all, y_bar_all, theta_all, x_coords_all, y_coords_all)\n",
    "    # print(x_bar_all)\n",
    "    # print(y_bar_all)\n",
    "    # print(theta_all)\n",
    "    time4 = time.time()\n",
    "\n",
    "    block_indices = []\n",
    "    blocks = []\n",
    "    for i in range(len(block_lengths)):\n",
    "        if block_lengths[i] > threshold:\n",
    "            blocks.append(Block(x_bar_all[i], y_bar_all[i], theta_all[i], block_lengths[i]))\n",
    "            block_indices.append(i)\n",
    "\n",
    "    ret = Matching(blocks)\n",
    "    if len(ret) == 0:\n",
    "        return [time2-time1,time3-time2,time4-time3,time.time()-time4,time.time()-time1]\n",
    "    \n",
    "    \n",
    "    final = []\n",
    "    for each in ret:\n",
    "        final.append(block_indices[each])\n",
    "    face_locations = []\n",
    "    for each in final:\n",
    "        #x,y = blocks[each].GetCenter()\n",
    "        top = int(alpha_min[each])\n",
    "        bottom = int(alpha_max[each])\n",
    "        left = int(beta_min[each])\n",
    "        right = int(beta_max[each])\n",
    "        face_locations.append([top,right,bottom,left])\n",
    "    \n",
    "\n",
    "    dummy1 = np.max(np.array(face_locations),axis=0)\n",
    "    dummy2 = np.min(np.array(face_locations),axis=0)\n",
    "    face_locations = [[dummy2[0],dummy1[1],dummy1[2],dummy2[3]]]\n",
    "    DrawRectanglesFinal(image_name,face_locations)\n",
    "    #Preprocessing time, Block time, Grouping time, Matching Time, Total time\n",
    "    return [time2-time1,time3-time2,time4-time3,time.time()-time4,time.time()-time1]"
   ]
  },
  {
   "cell_type": "code",
   "execution_count": 18,
   "id": "5bcdb87f",
   "metadata": {},
   "outputs": [
    {
     "name": "stdout",
     "output_type": "stream",
     "text": [
      "1614 connected components\n",
      "239 Connected Components\n",
      "block lengths\n",
      "[566. 429. 566.  69.  16.   9.  17.   5.  30.  19.   9.   4.   8.  18.\n",
      "   9.  34.   8.  61.   3.   9.   0.   1.  24.   8.  11.  37.   4.  32.\n",
      "  10.   6.   4.   3.  33.   0.   8.   5.  14.  36.   3.   8.  10.  11.\n",
      "   4.   3.  11.  13.   1.   7.  10.   9.   0.  14.   9.   5.   7.  28.\n",
      "   6.  23.   0.  21.   9.   2.  12.  19.  12.   3.   9.  15.   3.   8.\n",
      "   7.   9.   6.  11.   4.   7.  13.  13.   2.   2.   1.   4.   8.   4.\n",
      "   7.   9.   9.   0.  17.   9.   7.   5.   5.  11.   7.   0.   4.  14.\n",
      "   7.  12.  11.  13.   0.   0.   9.   6.   0.   0.  19.   2.   3.  12.\n",
      "   7.   7.   6.   3.   5.   1.   8.   0.   2.   6.  21.   7.   6.   3.\n",
      "   5.   5.   6.   0.   4.   1.   2.   0.   8.   1.  11.   5.   5.  12.\n",
      "   8.  12.   1.  13.   8.  14.  10.   0.  16.  78.   8.  11.  21.  73.\n",
      "   2.  57.  18.   0.   6.   6.  11.  20.   2.  17.   7.  10.  37.  14.\n",
      "   9.   0.   7.   3.  12.   5.   7.   0.  10.  11.   2.  11.  10.  13.\n",
      "  14.   0.   4.   8.   9.   3.   5.   6.   7.  13.  24.   6.   6.  95.\n",
      "  12.   4.   5.   1.  13.  89.   0.   6.   4.  12.  10.   4.   7.  19.\n",
      "   7.   8.  24.   2.   5.   5.   6.   0.   4.  14.  22.  13.   1.   6.\n",
      "   0.   1.  17.  13.   0.  13.  23.  31.   9.   8.   0.  11.  26.   0.\n",
      "  15.]\n",
      "block lengths end\n",
      "(567, 431, 3)\n",
      "test4_out.jpg\n"
     ]
    }
   ],
   "source": [
    "PrintAllBlocks(\"test4.png\")"
   ]
  },
  {
   "cell_type": "code",
   "execution_count": 7,
   "id": "fa77f4a2",
   "metadata": {},
   "outputs": [
    {
     "name": "stdout",
     "output_type": "stream",
     "text": [
      "['test1.jpg', 'test2.jpg', 'test3.jpg', 'test4.jpg', 'test5.jpg', 'test6.jpg', 'test7.jpg', 'test8.jpg', 'test9.jpg', 'test10.jpg', 'test11.jpg', 'test12.jpg', 'test13.jpg', 'test14.jpg', 'test15.jpg', 'test16.jpg', 'test17.jpg', 'test18.jpg', 'test19.jpg', 'test20.jpg']\n"
     ]
    }
   ],
   "source": [
    "testset = []\n",
    "for i in range(1,21):\n",
    "    testset.append(\"test\" + str(i)+\".jpg\")\n",
    "print(testset)\n",
    "    "
   ]
  },
  {
   "cell_type": "code",
   "execution_count": 8,
   "id": "3204fcf3",
   "metadata": {},
   "outputs": [
    {
     "name": "stdout",
     "output_type": "stream",
     "text": [
      "1397 connected components\n"
     ]
    },
    {
     "name": "stderr",
     "output_type": "stream",
     "text": [
      "100%|██████████| 16/16 [00:00<00:00, 44.12it/s]\n"
     ]
    },
    {
     "name": "stdout",
     "output_type": "stream",
     "text": [
      "The block # for left eye, right eye, left eyebrow, right eyebrow, mouth and nose are  (8, 7, 4, 6, 11, 10)\n",
      "The score is  0.9813515842626044\n",
      "1358 connected components\n"
     ]
    },
    {
     "name": "stderr",
     "output_type": "stream",
     "text": [
      "100%|██████████| 13/13 [00:00<00:00, 198.05it/s]\n"
     ]
    },
    {
     "name": "stdout",
     "output_type": "stream",
     "text": [
      "The block # for left eye, right eye, left eyebrow, right eyebrow, mouth and nose are  (7, 6, 5, 4, 9, 8)\n",
      "The score is  0.9148909749463681\n",
      "812 connected components\n"
     ]
    },
    {
     "name": "stderr",
     "output_type": "stream",
     "text": [
      "100%|██████████| 12/12 [00:00<00:00, 406.70it/s]\n"
     ]
    },
    {
     "name": "stdout",
     "output_type": "stream",
     "text": [
      "The block # for left eye, right eye, left eyebrow, right eyebrow, mouth and nose are  (8, 6, 4, 5, 11, 9)\n",
      "The score is  0.8830144119104031\n",
      "941 connected components\n"
     ]
    },
    {
     "name": "stderr",
     "output_type": "stream",
     "text": [
      "100%|██████████| 17/17 [00:00<00:00, 51.37it/s]\n"
     ]
    },
    {
     "name": "stdout",
     "output_type": "stream",
     "text": [
      "The block # for left eye, right eye, left eyebrow, right eyebrow, mouth and nose are  (7, 8, 5, 4, 12, 11)\n",
      "The score is  0.9956876102792934\n",
      "1695 connected components\n"
     ]
    },
    {
     "name": "stderr",
     "output_type": "stream",
     "text": [
      "100%|██████████| 18/18 [00:00<00:00, 31.07it/s]\n"
     ]
    },
    {
     "name": "stdout",
     "output_type": "stream",
     "text": [
      "1614 connected components\n"
     ]
    },
    {
     "name": "stderr",
     "output_type": "stream",
     "text": [
      "100%|██████████| 29/29 [00:30<00:00,  1.06s/it]\n"
     ]
    },
    {
     "name": "stdout",
     "output_type": "stream",
     "text": [
      "The block # for left eye, right eye, left eyebrow, right eyebrow, mouth and nose are  (23, 22, 18, 20, 28, 27)\n",
      "The score is  0.9579465561559352\n",
      "780 connected components\n"
     ]
    },
    {
     "name": "stderr",
     "output_type": "stream",
     "text": [
      "100%|██████████| 9/9 [00:00<00:00, 1517.72it/s]\n"
     ]
    },
    {
     "name": "stdout",
     "output_type": "stream",
     "text": [
      "The block # for left eye, right eye, left eyebrow, right eyebrow, mouth and nose are  (6, 5, 3, 4, 8, 7)\n",
      "The score is  0.9719396855819296\n",
      "1030 connected components\n"
     ]
    },
    {
     "name": "stderr",
     "output_type": "stream",
     "text": [
      "100%|██████████| 11/11 [00:00<00:00, 379.04it/s]\n"
     ]
    },
    {
     "name": "stdout",
     "output_type": "stream",
     "text": [
      "1072 connected components\n"
     ]
    },
    {
     "name": "stderr",
     "output_type": "stream",
     "text": [
      "100%|██████████| 9/9 [00:00<00:00, 1210.87it/s]\n"
     ]
    },
    {
     "name": "stdout",
     "output_type": "stream",
     "text": [
      "524 connected components\n"
     ]
    },
    {
     "name": "stderr",
     "output_type": "stream",
     "text": [
      "100%|██████████| 5/5 [00:00<00:00, 17232.14it/s]\n"
     ]
    },
    {
     "name": "stdout",
     "output_type": "stream",
     "text": [
      "1253 connected components\n"
     ]
    },
    {
     "name": "stderr",
     "output_type": "stream",
     "text": [
      "100%|██████████| 7/7 [00:00<00:00, 12688.04it/s]\n"
     ]
    },
    {
     "name": "stdout",
     "output_type": "stream",
     "text": [
      "724 connected components\n"
     ]
    },
    {
     "name": "stderr",
     "output_type": "stream",
     "text": [
      "100%|██████████| 6/6 [00:00<00:00, 18091.89it/s]\n"
     ]
    },
    {
     "name": "stdout",
     "output_type": "stream",
     "text": [
      "528 connected components\n"
     ]
    },
    {
     "name": "stderr",
     "output_type": "stream",
     "text": [
      "100%|██████████| 4/4 [00:00<00:00, 16513.01it/s]\n"
     ]
    },
    {
     "name": "stdout",
     "output_type": "stream",
     "text": [
      "1358 connected components\n"
     ]
    },
    {
     "name": "stderr",
     "output_type": "stream",
     "text": [
      "100%|██████████| 14/14 [00:00<00:00, 551.67it/s]\n"
     ]
    },
    {
     "name": "stdout",
     "output_type": "stream",
     "text": [
      "1309 connected components\n"
     ]
    },
    {
     "name": "stderr",
     "output_type": "stream",
     "text": [
      "100%|██████████| 11/11 [00:00<00:00, 9642.08it/s]\n"
     ]
    },
    {
     "name": "stdout",
     "output_type": "stream",
     "text": [
      "462 connected components\n"
     ]
    },
    {
     "name": "stderr",
     "output_type": "stream",
     "text": [
      "100%|██████████| 4/4 [00:00<00:00, 22133.53it/s]\n"
     ]
    },
    {
     "name": "stdout",
     "output_type": "stream",
     "text": [
      "492 connected components\n"
     ]
    },
    {
     "name": "stderr",
     "output_type": "stream",
     "text": [
      "100%|██████████| 3/3 [00:00<00:00, 20901.85it/s]\n"
     ]
    },
    {
     "name": "stdout",
     "output_type": "stream",
     "text": [
      "741 connected components\n"
     ]
    },
    {
     "name": "stderr",
     "output_type": "stream",
     "text": [
      "100%|██████████| 7/7 [00:00<00:00, 7296.25it/s]\n"
     ]
    },
    {
     "name": "stdout",
     "output_type": "stream",
     "text": [
      "1249 connected components\n"
     ]
    },
    {
     "name": "stderr",
     "output_type": "stream",
     "text": [
      "100%|██████████| 11/11 [00:00<00:00, 406.79it/s]\n"
     ]
    },
    {
     "name": "stdout",
     "output_type": "stream",
     "text": [
      "The block # for left eye, right eye, left eyebrow, right eyebrow, mouth and nose are  (7, 6, 4, 5, 10, 8)\n",
      "The score is  0.963368575269011\n",
      "506 connected components\n"
     ]
    },
    {
     "name": "stderr",
     "output_type": "stream",
     "text": [
      "100%|██████████| 5/5 [00:00<00:00, 9772.38it/s]\n"
     ]
    }
   ],
   "source": [
    "pretime = []\n",
    "ccdtime = []\n",
    "grptime = []\n",
    "mattime = []\n",
    "tottime = []\n",
    "for each in testset:\n",
    "    p,b,g,m,t = FaceDetectionFinal(each)\n",
    "    pretime.append(p)\n",
    "    ccdtime.append(b)\n",
    "    grptime.append(g)\n",
    "    mattime.append(m)\n",
    "    tottime.append(t)"
   ]
  },
  {
   "cell_type": "code",
   "execution_count": 11,
   "id": "19eb4fc0",
   "metadata": {},
   "outputs": [],
   "source": [
    "import face_recognition\n",
    "import time\n",
    "def HandleOneImage(filename):\n",
    "    start = time.time()\n",
    "    image = face_recognition.load_image_file(filename)\n",
    "    face_locations = face_recognition.face_locations(image)\n",
    "    R = image[:,:,0]\n",
    "    G = image[:,:,1]\n",
    "    B = image[:,:,2]\n",
    "    for each in face_locations:\n",
    "        top,right,bottom,left = each\n",
    "        for i in range(left,right):\n",
    "            R[top][i] = 255\n",
    "            R[top+1][i] = 255\n",
    "            R[top-1][i] = 255\n",
    "            R[bottom][i] = 255\n",
    "            R[bottom+1][i] = 255\n",
    "            R[bottom-1][i] = 255\n",
    "            \n",
    "        for j in range(top,bottom):\n",
    "            R[j][left] = 255\n",
    "            R[j][right] = 255\n",
    "            R[j][left+1] = 255\n",
    "            R[j][right+1] = 255\n",
    "            R[j][left-1] = 255\n",
    "            R[j][right-1] = 255\n",
    "    \n",
    "    \n",
    "    outfile = filename.split(\".\")[0] + \"_out.jpg\"\n",
    "    \n",
    "    cv2.imwrite(outfile,np.stack([B,G,R],axis=2))\n",
    "    return time.time()-start"
   ]
  },
  {
   "cell_type": "code",
   "execution_count": 12,
   "id": "e44e8183",
   "metadata": {},
   "outputs": [],
   "source": [
    "baseline = []\n",
    "for each in testset:\n",
    "    baseline.append(HandleOneImage(each))"
   ]
  },
  {
   "cell_type": "code",
   "execution_count": 19,
   "id": "f2e9ee8f",
   "metadata": {},
   "outputs": [
    {
     "data": {
      "image/png": "[encoded data removed]",
      "text/plain": [
       "<Figure size 864x576 with 1 Axes>"
      ]
     },
     "metadata": {
      "needs_background": "light"
     },
     "output_type": "display_data"
    }
   ],
   "source": [
    "import numpy as np\n",
    "import matplotlib.pyplot as plt\n",
    " \n",
    "\n",
    "barWidth = 0.25\n",
    "fig = plt.subplots(figsize =(12, 8))\n",
    "\n",
    "br1 = np.arange(len(testset))\n",
    "br2 = [x + barWidth for x in br1]\n",
    "br3 = [x + barWidth for x in br2]\n",
    "br4 = [x + barWidth for x in br3]\n",
    " \n",
    "# Make the plot\n",
    "plt.bar(br1, np.array(pretime)+np.array(ccdtime), color ='r', width = barWidth,\n",
    "        edgecolor ='grey', label ='Preprocessing and Block Detection')\n",
    "#plt.bar(br2, ccdtime, color ='g', width = barWidth,\n",
    "        #edgecolor ='grey', label ='Block Detection')\n",
    "plt.bar(br2, grptime, color ='b', width = barWidth,\n",
    "        edgecolor ='grey', label ='Block Grouping')\n",
    "plt.bar(br3, mattime, color ='c', width = barWidth,\n",
    "        edgecolor ='grey', label ='Matching')\n",
    " \n",
    "# Adding Xticks\n",
    "plt.xlabel('Test Case', fontweight ='bold', fontsize = 15)\n",
    "plt.ylabel('Running Time', fontweight ='bold', fontsize = 15)\n",
    "plt.xticks([r + barWidth for r in range(len(testset))],\n",
    "        [str(i) for i in range(1,21)])\n",
    "plt.legend()\n",
    "plt.show()"
   ]
  },
  {
   "cell_type": "code",
   "execution_count": 20,
   "id": "e04817af",
   "metadata": {},
   "outputs": [
    {
     "data": {
      "image/png": "[encoded data removed]",
      "text/plain": [
       "<Figure size 864x576 with 1 Axes>"
      ]
     },
     "metadata": {
      "needs_background": "light"
     },
     "output_type": "display_data"
    }
   ],
   "source": [
    "import numpy as np\n",
    "import matplotlib.pyplot as plt\n",
    " \n",
    "\n",
    "barWidth = 0.25\n",
    "fig = plt.subplots(figsize =(12, 8))\n",
    "\n",
    "br1 = np.arange(len(testset))\n",
    "br2 = [x + barWidth for x in br1]\n",
    "br3 = [x + barWidth for x in br2]\n",
    "br4 = [x + barWidth for x in br3]\n",
    " \n",
    "# Make the plot\n",
    "plt.bar(br1, tottime, color ='r', width = barWidth,\n",
    "        edgecolor ='grey', label ='Reimplementation')\n",
    "#plt.bar(br2, ccdtime, color ='g', width = barWidth,\n",
    "        #edgecolor ='grey', label ='Block Detection')\n",
    "plt.bar(br2, baseline, color ='b', width = barWidth,\n",
    "        edgecolor ='grey', label ='State-of-the-Art')\n",
    "#plt.bar(br3, mattime, color ='c', width = barWidth,\n",
    "#        edgecolor ='grey', label ='Matching')\n",
    " \n",
    "# Adding Xticks\n",
    "plt.xlabel('Test Case', fontweight ='bold', fontsize = 15)\n",
    "plt.ylabel('Running Time', fontweight ='bold', fontsize = 15)\n",
    "plt.xticks([r + barWidth for r in range(len(testset))],\n",
    "        [str(i) for i in range(1,21)])\n",
    "plt.legend()\n",
    "plt.show()"
   ]
  },
  {
   "cell_type": "code",
   "execution_count": 22,
   "id": "e252d8a2",
   "metadata": {},
   "outputs": [
    {
     "name": "stdout",
     "output_type": "stream",
     "text": [
      "0.12229474782943725\n"
     ]
    }
   ],
   "source": [
    "print(np.mean(baseline))"
   ]
  },
  {
   "cell_type": "code",
   "execution_count": null,
   "id": "0e9aa077",
   "metadata": {},
   "outputs": [],
   "source": []
  }
 ],
 "metadata": {
  "kernelspec": {
   "display_name": "Python 3",
   "language": "python",
   "name": "python3"
  },
  "language_info": {
   "codemirror_mode": {
    "name": "ipython",
    "version": 3
   },
   "file_extension": ".py",
   "mimetype": "text/x-python",
   "name": "python",
   "nbconvert_exporter": "python",
   "pygments_lexer": "ipython3",
   "version": "3.6.9"
  }
 },
 "nbformat": 4,
 "nbformat_minor": 5
}
